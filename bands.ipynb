{
 "cells": [
  {
   "cell_type": "code",
   "execution_count": 1,
   "metadata": {},
   "outputs": [],
   "source": [
    "from pymatgen import MPRester, Lattice\n",
    "from pymatgen.io.cif import CifWriter\n",
    "from pymatgen.symmetry.analyzer import SpacegroupAnalyzer\n",
    "from pymatgen.electronic_structure.bandstructure import BandStructure\n",
    "from pymatgen.electronic_structure.plotter import BSPlotter\n",
    "\n",
    "with MPRester(\"9wTHQsK9w5bFPNrGws\") as key:\n",
    "    structure = key.get_structure_by_material_id(\"mp-15791\") # importe la structure du matériau depuis le site materialproject\n",
    "    structure_object = SpacegroupAnalyzer(structure) # crée un objet de la classe 'SpacegroupeAnalyzer'\n",
    "    structure2 = structure_object.get_primitive_standard_structure()\n",
    "    \n",
    "    structureToWrite = CifWriter(structure2)\n",
    "    structureToWrite.write_file('mp-15791.cif') # enregistre la structure du matériau dans un fichier .cif"
   ]
  },
  {
   "cell_type": "markdown",
   "metadata": {},
   "source": [
    "## Calcul de la bande interdite :"
   ]
  },
  {
   "cell_type": "code",
   "execution_count": 30,
   "metadata": {
    "scrolled": true
   },
   "outputs": [
    {
     "name": "stdout",
     "output_type": "stream",
     "text": [
      "La bande est-elle de type direct ?  False\n",
      "Energie nécessaire pour franchir la bande = 2.0065999999999997 [eV]\n",
      "Vecteur de transition : (0.045,0.045,0.045)-F\n"
     ]
    }
   ],
   "source": [
    "band_structure = structure = key.get_bandstructure_by_material_id(\"mp-15791\") # importe la structure de bande du matériau depuis le site materialproject\n",
    "band_gap = band_structure.get_band_gap() # récupère les informations sur la bande interdite\n",
    "print(\"La bande est-elle de type direct ? \", band_gap['direct'])\n",
    "print(\"Energie nécessaire pour franchir la bande =\", band_gap['energy'], \"[eV]\")\n",
    "print(\"Vecteur de transition :\", band_gap['transition'])"
   ]
  },
  {
   "cell_type": "markdown",
   "metadata": {},
   "source": [
    "## Minimum de bande de conduction :"
   ]
  },
  {
   "cell_type": "code",
   "execution_count": 35,
   "metadata": {},
   "outputs": [
    {
     "name": "stdout",
     "output_type": "stream",
     "text": [
      "Energie du minimum de la bande de conduction 4.7418 [eV]\n",
      "Vecteur k (coordonnées cartésiennes) = [-1.11022302e-16 -9.36154075e-01 -3.39666546e-01]\n"
     ]
    }
   ],
   "source": [
    "cbm = band_structure.get_cbm()\n",
    "print('Energie du minimum de la bande de conduction',cbm['energy'],'[eV]')\n",
    "print('Vecteur k (coordonnées cartésiennes) =',cbm['kpoint'].cart_coords)"
   ]
  },
  {
   "cell_type": "markdown",
   "metadata": {},
   "source": [
    "## Maximum de bande de valence :"
   ]
  },
  {
   "cell_type": "code",
   "execution_count": 37,
   "metadata": {},
   "outputs": [
    {
     "name": "stdout",
     "output_type": "stream",
     "text": [
      "Energie du maximum de la bande de valence 2.7352 [eV]\n",
      "Vecteur k (coordonnées cartésiennes) = [-1.38777878e-17 -8.51049244e-02  1.54393969e-02]\n"
     ]
    }
   ],
   "source": [
    "vbm = band_structure.get_vbm()\n",
    "print('Energie du maximum de la bande de valence',vbm['energy'],'[eV]')\n",
    "print('Vecteur k (coordonnées cartésiennes) =',vbm['kpoint'].cart_coords)"
   ]
  },
  {
   "cell_type": "markdown",
   "metadata": {},
   "source": [
    "## Figure illustrant la dispersion :"
   ]
  },
  {
   "cell_type": "markdown",
   "metadata": {},
   "source": [
    "En vert, les flèches qui illustrent un minimum de dispersion et en rouge les flèches qui illustrent un maximum de dispersion\n",
    "![title](img/band_dispersion.png)"
   ]
  },
  {
   "cell_type": "markdown",
   "metadata": {},
   "source": [
    "## Calcul de la masse effective"
   ]
  },
  {
   "cell_type": "markdown",
   "metadata": {},
   "source": [
    "Au voisinage d'un maximum ou d'un minimum de bande, on peut approximer la masse effective comme étant\n",
    "$$m^* = \\dfrac{\\hbar^2}{2\\varepsilon(k)}\\cdot(k_x^2+k_y^2+k_z^2)$$\n",
    "k étant le k point du maximum ou du minimum de bande et $\\varepsilon(k)$ étant l'énergie liée au maximum ou au minimum de bande"
   ]
  },
  {
   "cell_type": "code",
   "execution_count": 34,
   "metadata": {},
   "outputs": [
    {
     "name": "stdout",
     "output_type": "stream",
     "text": [
      "La masse effective à la base de la bande de conduction est 4.5306863182688337e-32 [kg]\n",
      "\n",
      "La masse effective au sommet de la bande de valence est 5.92495582371763e-34 [kg]\n",
      "\n",
      "On note que cette valeur est proche de celle de l électron qui vaut 9.109e-31 [kg]\n"
     ]
    }
   ],
   "source": [
    "h_bar = 6.58212e-16\n",
    "\n",
    "# Calcul de m* pour le minimum de bande de conduction\n",
    "e_cond = cbm['energy']\n",
    "k_cond = cbm['kpoint'].cart_coords\n",
    "m_cond = (h_bar**2)/(2*e_cond)*(k_cond[0]**2+k_cond[1]**2+k_cond[2]**2)\n",
    "\n",
    "print('La masse effective à la base de la bande de conduction est', m_cond, '[kg]')\n",
    "print('')\n",
    "\n",
    "# Calcul de m* pour le maximum de bande de valence\n",
    "e_val = vbm['energy']\n",
    "k_val = vbm['kpoint'].cart_coords\n",
    "m_val = (h_bar**2)/(2*e_val)*(k_val[0]**2+k_val[1]**2+k_val[2]**2)\n",
    "\n",
    "print('La masse effective au sommet de la bande de valence est', m_val, '[kg]')\n",
    "print('')\n",
    "\n",
    "print('On note que cette valeur est proche de celle de l électron qui vaut 9.109e-31 [kg]')"
   ]
  }
 ],
 "metadata": {
  "kernelspec": {
   "display_name": "Python 3",
   "language": "python",
   "name": "python3"
  },
  "language_info": {
   "codemirror_mode": {
    "name": "ipython",
    "version": 3
   },
   "file_extension": ".py",
   "mimetype": "text/x-python",
   "name": "python",
   "nbconvert_exporter": "python",
   "pygments_lexer": "ipython3",
   "version": "3.6.8"
  }
 },
 "nbformat": 4,
 "nbformat_minor": 2
}
