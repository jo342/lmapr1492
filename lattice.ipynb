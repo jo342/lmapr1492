{
 "cells": [
  {
   "cell_type": "code",
   "execution_count": 39,
   "metadata": {},
   "outputs": [],
   "source": [
    "from pymatgen import MPRester, Lattice\n",
    "from pymatgen.io.cif import CifWriter\n",
    "from pymatgen.symmetry.analyzer import SpacegroupAnalyzer\n",
    "\n",
    "\n",
    "with MPRester(\"9wTHQsK9w5bFPNrGws\") as key:\n",
    "    structure = key.get_structure_by_material_id(\"mp-15791\") # importe la structure du matériau depuis le site materialproject\n",
    "    structure_object = SpacegroupAnalyzer(structure) # crée un objet de la classe 'SpacegroupeAnalyzer'\n",
    "    structure2 = structure_object.get_primitive_standard_structure()\n",
    "    \n",
    "    structureToWrite = CifWriter(structure2)\n",
    "    structureToWrite.write_file('mp-15791.cif') # enregistre la structure du matériau dans un fichier .cif"
   ]
  },
  {
   "cell_type": "code",
   "execution_count": 46,
   "metadata": {},
   "outputs": [
    {
     "name": "stdout",
     "output_type": "stream",
     "text": [
      "vecteurs de base du réseau direct :\n",
      "6.270178 -1.938301 0.000000\n",
      "6.270178 1.938301 0.000000\n",
      "5.670991 0.000000 3.303332\n",
      "\n",
      "Angles entre les vecteurs : \n",
      "(34.35590322039742, 34.35590322039742, 34.35590322039744)\n"
     ]
    }
   ],
   "source": [
    "dir = structure2.lattice # permet de trouver les vecteurs de base du réseau direct\n",
    "print(\"vecteurs de base du réseau direct :\")\n",
    "print(dir)\n",
    "print(\"\")\n",
    "print(\"Angles entre les vecteurs : \")\n",
    "print(dir.angles)"
   ]
  },
  {
   "cell_type": "code",
   "execution_count": 45,
   "metadata": {},
   "outputs": [
    {
     "name": "stdout",
     "output_type": "stream",
     "text": [
      "Vecteurs de base du réseau réciproque : \n",
      "0.079743 -0.257958 -0.136898\n",
      "0.079743 0.257958 -0.136898\n",
      "0.000000 0.000000 0.302725\n",
      "\n",
      "Angles entre les vecteurs : \n",
      "(116.88616135428187, 116.88616135428187, 116.88616135428187)\n"
     ]
    }
   ],
   "source": [
    "recip = dir.reciprocal_lattice # permet de trouver les vecteurs de base du réseau réciproque\n",
    "print(\"Vecteurs de base du réseau réciproque : \")\n",
    "print(recip)\n",
    "print(\"\")\n",
    "print(\"Angles entre les vecteurs : \")\n",
    "print(recip.angles)"
   ]
  },
  {
   "cell_type": "code",
   "execution_count": 42,
   "metadata": {},
   "outputs": [
    {
     "name": "stdout",
     "output_type": "stream",
     "text": [
      "Type de maille : rhombohedral\n",
      "Système cristallin : trigonal\n",
      "Groupe ponctuel : -3m\n"
     ]
    }
   ],
   "source": [
    "maille = structure_object.get_lattice_type() # permet d'obtenir le type de maille du cristal\n",
    "crist = structure_object.get_crystal_system() # permet d'obtenir le système cristallin\n",
    "ponct = structure_object.get_point_group_symbol() # permet d'obtenir le groupe ponctuel\n",
    "\n",
    "\n",
    "print(\"Type de maille : \" + maille)\n",
    "print(\"Système cristallin : \" + crist)\n",
    "print(\"Groupe ponctuel : \" + ponct)"
   ]
  },
  {
   "cell_type": "code",
   "execution_count": null,
   "metadata": {},
   "outputs": [],
   "source": []
  }
 ],
 "metadata": {
  "kernelspec": {
   "display_name": "Python 3",
   "language": "python",
   "name": "python3"
  },
  "language_info": {
   "codemirror_mode": {
    "name": "ipython",
    "version": 3
   },
   "file_extension": ".py",
   "mimetype": "text/x-python",
   "name": "python",
   "nbconvert_exporter": "python",
   "pygments_lexer": "ipython3",
   "version": "3.6.8"
  }
 },
 "nbformat": 4,
 "nbformat_minor": 2
}
