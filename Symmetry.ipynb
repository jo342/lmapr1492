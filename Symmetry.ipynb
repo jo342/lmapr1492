{
 "cells": [
  {
   "cell_type": "code",
   "execution_count": 55,
   "metadata": {},
   "outputs": [],
   "source": [
    "from pymatgen import MPRester, Lattice\n",
    "from pymatgen.io.cif import CifWriter\n",
    "from pymatgen.symmetry.analyzer import SpacegroupAnalyzer\n",
    "from pymatgen.core.operations import SymmOp\n",
    "\n",
    "\n",
    "with MPRester(\"9wTHQsK9w5bFPNrGws\") as key:\n",
    "    structure = key.get_structure_by_material_id(\"mp-15791\") # importe la structure du matériau depuis le site materialproject\n",
    "    structure_object = SpacegroupAnalyzer(structure) # crée un objet de la classe 'SpacegroupeAnalyzer'\n",
    "    structure2 = structure_object.get_primitive_standard_structure()\n",
    "    \n",
    "    structureToWrite = CifWriter(structure2)\n",
    "    structureToWrite.write_file('mp-15791.cif') # enregistre la structure du matériau dans un fichier .cif"
   ]
  },
  {
   "cell_type": "code",
   "execution_count": 61,
   "metadata": {},
   "outputs": [
    {
     "name": "stdout",
     "output_type": "stream",
     "text": [
      "Symétrie centrale dont voici la matrice :\n",
      "Rot:\n",
      "[[-1.  0.  0.]\n",
      " [ 0. -1.  0.]\n",
      " [ 0.  0. -1.]]\n",
      "tau\n",
      "[0. 0. 0.]\n",
      "coordonnées de l'atome Li : [0,0,0.5]\n",
      "coordonnées de l'image de Li : \n",
      "[ 0.   0.  -0.5]\n"
     ]
    }
   ],
   "source": [
    "# Première symétrie :\n",
    "\n",
    "print(\"Symétrie centrale dont voici la matrice :\")\n",
    "symmop_Li = SymmOp.from_xyz_string(\"-x,-y,-z\") # permet de récupérer la matrice de symétrie\n",
    "print(symmop_Li)\n",
    "\n",
    "print(\"coordonnées de l'atome Li : [0,0,0.5]\")\n",
    "image_Li = symmop_Li.operate([0, 0, 0.5]) # récupère les coordonnées de l'image de l'atome par la symétrie \n",
    "print(\"coordonnées de l'image de Li : \")\n",
    "print(image_Li)"
   ]
  },
  {
   "cell_type": "markdown",
   "metadata": {},
   "source": [
    "## Illustration de la symétrie centrale :\n",
    "![title](img/symm_centrale.jpg)"
   ]
  },
  {
   "cell_type": "code",
   "execution_count": 62,
   "metadata": {},
   "outputs": [
    {
     "name": "stdout",
     "output_type": "stream",
     "text": [
      "Symétrie de plan miroir dont voici la matrice :\n",
      "Rot:\n",
      "[[ 1.  0.  0.]\n",
      " [ 1. -1.  0.]\n",
      " [ 0.  0.  1.]]\n",
      "tau\n",
      "[0. 0. 0.]\n",
      "coordonnées de l'atome S : [0,1,0.75]\n",
      "coordonnées de l'image de S : \n",
      "[ 0.   -1.    0.75]\n"
     ]
    }
   ],
   "source": [
    "# Seconde symétrie : \n",
    "print(\"Symétrie de plan miroir dont voici la matrice :\")\n",
    "symmop_S = SymmOp.from_xyz_string(\"x,x-y,z\") # permet de récupérer la matrice de symétrie\n",
    "print(symmop_S)\n",
    "\n",
    "print(\"coordonnées de l'atome S : [0,1,0.75]\")\n",
    "image_S = symmop_S.operate([0, 1, 0.75]) # récupère les coordonnées de l'image de l'atome par la symétrie \n",
    "print(\"coordonnées de l'image de S : \")\n",
    "print(image_S)"
   ]
  },
  {
   "cell_type": "markdown",
   "metadata": {},
   "source": [
    "## Illustration de la symétrie de plan miroir :\n",
    "![title](img/plan_miroir.jpg)"
   ]
  },
  {
   "cell_type": "code",
   "execution_count": 63,
   "metadata": {},
   "outputs": [
    {
     "name": "stdout",
     "output_type": "stream",
     "text": [
      "Translation dont voici la matrice :\n",
      "Rot:\n",
      "[[1. 0. 0.]\n",
      " [0. 1. 0.]\n",
      " [0. 0. 1.]]\n",
      "tau\n",
      "[-0.33333333  0.33333333  0.33333333]\n",
      "coordonnées de l'atome Er : [0,0,0]\n",
      "coordonnées de l'image de Er : \n",
      "[-0.33333333  0.33333333  0.33333333]\n"
     ]
    }
   ],
   "source": [
    "# Troisième symétrie : \n",
    "print(\"Translation dont voici la matrice :\")\n",
    "symmop_Er = SymmOp.from_xyz_string(\"x-1/3,y+1/3,z+1/3\") # permet de récupérer la matrice de symétrie\n",
    "print(symmop_Er)\n",
    "\n",
    "print(\"coordonnées de l'atome Er : [0,0,0]\")\n",
    "image_Er = symmop_Er.operate([0, 0, 0]) # récupère les coordonnées de l'image de l'atome par la symétrie \n",
    "print(\"coordonnées de l'image de Er : \")\n",
    "print(image_Er)"
   ]
  },
  {
   "cell_type": "markdown",
   "metadata": {},
   "source": [
    "## Illustration de la translation :\n",
    "![title](img/translation.jpg)"
   ]
  },
  {
   "cell_type": "code",
   "execution_count": null,
   "metadata": {},
   "outputs": [],
   "source": []
  }
 ],
 "metadata": {
  "kernelspec": {
   "display_name": "Python 3",
   "language": "python",
   "name": "python3"
  },
  "language_info": {
   "codemirror_mode": {
    "name": "ipython",
    "version": 3
   },
   "file_extension": ".py",
   "mimetype": "text/x-python",
   "name": "python",
   "nbconvert_exporter": "python",
   "pygments_lexer": "ipython3",
   "version": "3.6.8"
  }
 },
 "nbformat": 4,
 "nbformat_minor": 2
}
